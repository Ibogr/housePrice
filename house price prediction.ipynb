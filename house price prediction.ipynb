{
 "cells": [
  {
   "cell_type": "markdown",
   "id": "00984d20",
   "metadata": {},
   "source": [
    "\"\"\"### FEATURES_MEANING ###\n",
    "\n",
    "- MSSubClass: Identifies the type of dwelling involved in the saOverallQual      0.790982GrLivArea        0.708624GarageCars       0.640409 -->TotalBsmtSF      0.613581 -->FullBath         0.560664TotRmsAbvGrd     0.533723YearBuilt        0.522897 -->\n",
    "\n",
    "- MSZoning: Identifies the general zoning classification of the sale.\n",
    "- LotFrontage: Linear feet of street connected to property\n",
    "-LotArea: Lot size in square feet\n",
    "-Street: Type of road access to property\n",
    "-Alley: Type of alley access to property\n",
    "-LotShape: General shape of property\n",
    "-LandContour: Flatness of the property\n",
    "-Utilities: Type of utilities available\n",
    "-LotConfig: Lot configuration\n",
    "-LandSlope: Slope of property\n",
    "-Neighborhood: Physical locations within Ames city limits\n",
    "-Condition1: Proximity to various conditions\n",
    "-Condition2: Proximity to various conditions (if more than one is present)\n",
    "-BldgType: Type of dwelling\n",
    "-HouseStyle: Style of dwelling\n",
    "-OverallQual: Rates the overall material and finish of the house\n",
    "-OverallCond: Rates the overall condition of the house\n",
    "-YearBuilt: Original construction date\n",
    "-YearRemodAdd: Remodel date (same as construction date if no remodeling or additions)\n",
    "-RoofStyle: Type of roof\n",
    "-RoofMatl: Roof material\n",
    "-Exterior1st: Exterior covering on house\n",
    "-Exterior2nd: Exterior covering on house (if more than one material)\n",
    "-MasVnrType: Masonry veneer type\n",
    "-MasVnrArea: Masonry veneer area in square feet\n",
    "-ExterQual: Evaluates the quality of the material on the exterior \n",
    "-ExterCond: Evaluates the present condition of the material on the exterior\n",
    "-Foundation: Type of foundation\n",
    "-BsmtQual: Evaluates the height of the basement\n",
    "-BsmtCond: Evaluates the general condition of the basement\n",
    "-BsmtExposure: Refers to walkout or garden level walls\n",
    "-BsmtFinType1: Rating of basement finished area\n",
    "-BsmtFinSF1: Type 1 finished square feet\n",
    "-BsmtFinType2: Rating of basement finished area (if multiple types)\n",
    "-BsmtFinSF2: Type 2 finished square feet\n",
    "-BsmtUnfSF: Unfinished square feet of basement area\n",
    "-TotalBsmtSF: Total square feet of basement area\n",
    "-Heating: Type of heating\n",
    "-HeatingQC: Heating quality and condition\n",
    "-CentralAir: Central air conditioning\n",
    "-Electrical: Electrical system\n",
    "-1stFlrSF: First Floor square feet\n",
    "-2ndFlrSF: Second floor square feet\n",
    "-LowQualFinSF: Low quality finished square feet (all floors)\n",
    "-GrLivArea: Above grade (ground) living area square feet\n",
    "-BsmtFullBath: Basement full bathrooms\n",
    "-BsmtHalfBath: Basement half bathrooms\n",
    "-FullBath: Full bathrooms above grade\n",
    "-HalfBath: Half baths above grade\n",
    "-BedroomAbvGr: Bedrooms above grade (does NOT include basement bedrooms)\n",
    "-Kitchen: Kitchens above grade\n",
    "-KitchenQual: Kitchen quality\n",
    "-TotRmsAbvGrd: Total rooms above grade (does not include bathrooms)\n",
    "-Functional: Home functionality (Assume typical unless deductions are warranted)\n",
    "-Fireplaces: Number of fireplaces\n",
    "-FireplaceQu: Fireplace quality\n",
    "-GarageType: Garage location\n",
    "-GarageYrBlt: Year garage was built\n",
    "-GarageFinish: Interior finish of the garage\n",
    "-GarageCars: Size of garage in car capacity\n",
    "-GarageArea: Size of garage in square feet\n",
    "-GarageQual: Garage quality\n",
    "-GarageCond: Garage condition\n",
    "-PavedDrive: Paved driveway\n",
    "-WoodDeckSF: Wood deck area in square feet\n",
    "-OpenPorchSF: Open porch area in square feet\n",
    "-EnclosedPorch: Enclosed porch area in square feet\n",
    "-3SsnPorch: Three season porch area in square feet\n",
    "-ScreenPorch: Screen porch area in square feet\n",
    "-PoolArea: Pool area in square feet\n",
    "-PoolQC: Pool quality\n",
    "-Fence: Fence quality\n",
    "-MiscFeature: Miscellaneous feature not covered in other categories\n",
    "-MiscVal: $Value of miscellaneous feature\n",
    "-MoSold: Month Sold (MM)\n",
    "-YrSold: Year Sold (YYYY)\n",
    "-SaleType: Type of sale\n",
    "-SaleCondition: Condition of sale\"\"\""
   ]
  },
  {
   "cell_type": "markdown",
   "id": "d03afebf",
   "metadata": {},
   "source": [
  
  },
  {
   "cell_type": "code",
   "execution_count": 1,
   "id": "9db09a30",
   "metadata": {},
   "outputs": [],
   "source": [
    "import pandas as pd\n",
    "import seaborn as sns\n",
    "import matplotlib.pyplot as plt\n",
    "from sklearn.model_selection import train_test_split, GridSearchCV,cross_val_score\n",
    "from sklearn.metrics import mean_absolute_percentage_error,r2_score\n",
    "from sklearn.cluster import KMeans\n",
    "import numpy as np\n",
    "from sklearn import model_selection\n",
    "from sklearn.linear_model import LinearRegression\n",
    "from sklearn.ensemble import RandomForestRegressor\n",
    "from sklearn.preprocessing import StandardScaler\n",
    "from sklearn.metrics import accuracy_score\n",
    "from sklearn.metrics import recall_score\n",
    "from sklearn.model_selection import train_test_split, GridSearchCV,cross_val_score\n",
    "from sklearn.metrics import mean_absolute_percentage_error,r2_score\n",
    "from sklearn.cluster import KMeans\n",
    "# rmse\n",
    "# feature importance\n",
    "# birbirleri arasinda corr degeri yuksek olanlari datadan dusur. salePrice i etkileyebilir"
   ]
  },
  {
   "cell_type": "code",
   "execution_count": 2,
   "id": "e0dd1bcf",
   "metadata": {
    "scrolled": true
   },
   "outputs": [
    {
     "ename": "FileNotFoundError",
     "evalue": "[Errno 2] No such file or directory: 'house_price_sonhali.xlsx'",
     "output_type": "error",
     "traceback": [
      "\u001b[0;31m---------------------------------------------------------------------------\u001b[0m",
      "\u001b[0;31mFileNotFoundError\u001b[0m                         Traceback (most recent call last)",
      "Input \u001b[0;32mIn [2]\u001b[0m, in \u001b[0;36m<cell line: 1>\u001b[0;34m()\u001b[0m\n\u001b[0;32m----> 1\u001b[0m df\u001b[38;5;241m=\u001b[39m \u001b[43mpd\u001b[49m\u001b[38;5;241;43m.\u001b[39;49m\u001b[43mread_excel\u001b[49m\u001b[43m(\u001b[49m\u001b[38;5;124;43m\"\u001b[39;49m\u001b[38;5;124;43mhouse_price_sonhali.xlsx\u001b[39;49m\u001b[38;5;124;43m\"\u001b[39;49m\u001b[43m)\u001b[49m\n\u001b[1;32m      2\u001b[0m df\u001b[38;5;241m.\u001b[39mhead()\n",
      "File \u001b[0;32m/opt/anaconda3/lib/python3.9/site-packages/pandas/util/_decorators.py:311\u001b[0m, in \u001b[0;36mdeprecate_nonkeyword_arguments.<locals>.decorate.<locals>.wrapper\u001b[0;34m(*args, **kwargs)\u001b[0m\n\u001b[1;32m    305\u001b[0m \u001b[38;5;28;01mif\u001b[39;00m \u001b[38;5;28mlen\u001b[39m(args) \u001b[38;5;241m>\u001b[39m num_allow_args:\n\u001b[1;32m    306\u001b[0m     warnings\u001b[38;5;241m.\u001b[39mwarn(\n\u001b[1;32m    307\u001b[0m         msg\u001b[38;5;241m.\u001b[39mformat(arguments\u001b[38;5;241m=\u001b[39marguments),\n\u001b[1;32m    308\u001b[0m         \u001b[38;5;167;01mFutureWarning\u001b[39;00m,\n\u001b[1;32m    309\u001b[0m         stacklevel\u001b[38;5;241m=\u001b[39mstacklevel,\n\u001b[1;32m    310\u001b[0m     )\n\u001b[0;32m--> 311\u001b[0m \u001b[38;5;28;01mreturn\u001b[39;00m \u001b[43mfunc\u001b[49m\u001b[43m(\u001b[49m\u001b[38;5;241;43m*\u001b[39;49m\u001b[43margs\u001b[49m\u001b[43m,\u001b[49m\u001b[43m \u001b[49m\u001b[38;5;241;43m*\u001b[39;49m\u001b[38;5;241;43m*\u001b[39;49m\u001b[43mkwargs\u001b[49m\u001b[43m)\u001b[49m\n",
      "File \u001b[0;32m/opt/anaconda3/lib/python3.9/site-packages/pandas/io/excel/_base.py:457\u001b[0m, in \u001b[0;36mread_excel\u001b[0;34m(io, sheet_name, header, names, index_col, usecols, squeeze, dtype, engine, converters, true_values, false_values, skiprows, nrows, na_values, keep_default_na, na_filter, verbose, parse_dates, date_parser, thousands, decimal, comment, skipfooter, convert_float, mangle_dupe_cols, storage_options)\u001b[0m\n\u001b[1;32m    455\u001b[0m \u001b[38;5;28;01mif\u001b[39;00m \u001b[38;5;129;01mnot\u001b[39;00m \u001b[38;5;28misinstance\u001b[39m(io, ExcelFile):\n\u001b[1;32m    456\u001b[0m     should_close \u001b[38;5;241m=\u001b[39m \u001b[38;5;28;01mTrue\u001b[39;00m\n\u001b[0;32m--> 457\u001b[0m     io \u001b[38;5;241m=\u001b[39m \u001b[43mExcelFile\u001b[49m\u001b[43m(\u001b[49m\u001b[43mio\u001b[49m\u001b[43m,\u001b[49m\u001b[43m \u001b[49m\u001b[43mstorage_options\u001b[49m\u001b[38;5;241;43m=\u001b[39;49m\u001b[43mstorage_options\u001b[49m\u001b[43m,\u001b[49m\u001b[43m \u001b[49m\u001b[43mengine\u001b[49m\u001b[38;5;241;43m=\u001b[39;49m\u001b[43mengine\u001b[49m\u001b[43m)\u001b[49m\n\u001b[1;32m    458\u001b[0m \u001b[38;5;28;01melif\u001b[39;00m engine \u001b[38;5;129;01mand\u001b[39;00m engine \u001b[38;5;241m!=\u001b[39m io\u001b[38;5;241m.\u001b[39mengine:\n\u001b[1;32m    459\u001b[0m     \u001b[38;5;28;01mraise\u001b[39;00m \u001b[38;5;167;01mValueError\u001b[39;00m(\n\u001b[1;32m    460\u001b[0m         \u001b[38;5;124m\"\u001b[39m\u001b[38;5;124mEngine should not be specified when passing \u001b[39m\u001b[38;5;124m\"\u001b[39m\n\u001b[1;32m    461\u001b[0m         \u001b[38;5;124m\"\u001b[39m\u001b[38;5;124man ExcelFile - ExcelFile already has the engine set\u001b[39m\u001b[38;5;124m\"\u001b[39m\n\u001b[1;32m    462\u001b[0m     )\n",
      "File \u001b[0;32m/opt/anaconda3/lib/python3.9/site-packages/pandas/io/excel/_base.py:1376\u001b[0m, in \u001b[0;36mExcelFile.__init__\u001b[0;34m(self, path_or_buffer, engine, storage_options)\u001b[0m\n\u001b[1;32m   1374\u001b[0m     ext \u001b[38;5;241m=\u001b[39m \u001b[38;5;124m\"\u001b[39m\u001b[38;5;124mxls\u001b[39m\u001b[38;5;124m\"\u001b[39m\n\u001b[1;32m   1375\u001b[0m \u001b[38;5;28;01melse\u001b[39;00m:\n\u001b[0;32m-> 1376\u001b[0m     ext \u001b[38;5;241m=\u001b[39m \u001b[43minspect_excel_format\u001b[49m\u001b[43m(\u001b[49m\n\u001b[1;32m   1377\u001b[0m \u001b[43m        \u001b[49m\u001b[43mcontent_or_path\u001b[49m\u001b[38;5;241;43m=\u001b[39;49m\u001b[43mpath_or_buffer\u001b[49m\u001b[43m,\u001b[49m\u001b[43m \u001b[49m\u001b[43mstorage_options\u001b[49m\u001b[38;5;241;43m=\u001b[39;49m\u001b[43mstorage_options\u001b[49m\n\u001b[1;32m   1378\u001b[0m \u001b[43m    \u001b[49m\u001b[43m)\u001b[49m\n\u001b[1;32m   1379\u001b[0m     \u001b[38;5;28;01mif\u001b[39;00m ext \u001b[38;5;129;01mis\u001b[39;00m \u001b[38;5;28;01mNone\u001b[39;00m:\n\u001b[1;32m   1380\u001b[0m         \u001b[38;5;28;01mraise\u001b[39;00m \u001b[38;5;167;01mValueError\u001b[39;00m(\n\u001b[1;32m   1381\u001b[0m             \u001b[38;5;124m\"\u001b[39m\u001b[38;5;124mExcel file format cannot be determined, you must specify \u001b[39m\u001b[38;5;124m\"\u001b[39m\n\u001b[1;32m   1382\u001b[0m             \u001b[38;5;124m\"\u001b[39m\u001b[38;5;124man engine manually.\u001b[39m\u001b[38;5;124m\"\u001b[39m\n\u001b[1;32m   1383\u001b[0m         )\n",
      "File \u001b[0;32m/opt/anaconda3/lib/python3.9/site-packages/pandas/io/excel/_base.py:1250\u001b[0m, in \u001b[0;36minspect_excel_format\u001b[0;34m(content_or_path, storage_options)\u001b[0m\n\u001b[1;32m   1247\u001b[0m \u001b[38;5;28;01mif\u001b[39;00m \u001b[38;5;28misinstance\u001b[39m(content_or_path, \u001b[38;5;28mbytes\u001b[39m):\n\u001b[1;32m   1248\u001b[0m     content_or_path \u001b[38;5;241m=\u001b[39m BytesIO(content_or_path)\n\u001b[0;32m-> 1250\u001b[0m \u001b[38;5;28;01mwith\u001b[39;00m \u001b[43mget_handle\u001b[49m\u001b[43m(\u001b[49m\n\u001b[1;32m   1251\u001b[0m \u001b[43m    \u001b[49m\u001b[43mcontent_or_path\u001b[49m\u001b[43m,\u001b[49m\u001b[43m \u001b[49m\u001b[38;5;124;43m\"\u001b[39;49m\u001b[38;5;124;43mrb\u001b[39;49m\u001b[38;5;124;43m\"\u001b[39;49m\u001b[43m,\u001b[49m\u001b[43m \u001b[49m\u001b[43mstorage_options\u001b[49m\u001b[38;5;241;43m=\u001b[39;49m\u001b[43mstorage_options\u001b[49m\u001b[43m,\u001b[49m\u001b[43m \u001b[49m\u001b[43mis_text\u001b[49m\u001b[38;5;241;43m=\u001b[39;49m\u001b[38;5;28;43;01mFalse\u001b[39;49;00m\n\u001b[1;32m   1252\u001b[0m \u001b[43m\u001b[49m\u001b[43m)\u001b[49m \u001b[38;5;28;01mas\u001b[39;00m handle:\n\u001b[1;32m   1253\u001b[0m     stream \u001b[38;5;241m=\u001b[39m handle\u001b[38;5;241m.\u001b[39mhandle\n\u001b[1;32m   1254\u001b[0m     stream\u001b[38;5;241m.\u001b[39mseek(\u001b[38;5;241m0\u001b[39m)\n",
      "File \u001b[0;32m/opt/anaconda3/lib/python3.9/site-packages/pandas/io/common.py:795\u001b[0m, in \u001b[0;36mget_handle\u001b[0;34m(path_or_buf, mode, encoding, compression, memory_map, is_text, errors, storage_options)\u001b[0m\n\u001b[1;32m    786\u001b[0m         handle \u001b[38;5;241m=\u001b[39m \u001b[38;5;28mopen\u001b[39m(\n\u001b[1;32m    787\u001b[0m             handle,\n\u001b[1;32m    788\u001b[0m             ioargs\u001b[38;5;241m.\u001b[39mmode,\n\u001b[0;32m   (...)\u001b[0m\n\u001b[1;32m    791\u001b[0m             newline\u001b[38;5;241m=\u001b[39m\u001b[38;5;124m\"\u001b[39m\u001b[38;5;124m\"\u001b[39m,\n\u001b[1;32m    792\u001b[0m         )\n\u001b[1;32m    793\u001b[0m     \u001b[38;5;28;01melse\u001b[39;00m:\n\u001b[1;32m    794\u001b[0m         \u001b[38;5;66;03m# Binary mode\u001b[39;00m\n\u001b[0;32m--> 795\u001b[0m         handle \u001b[38;5;241m=\u001b[39m \u001b[38;5;28;43mopen\u001b[39;49m\u001b[43m(\u001b[49m\u001b[43mhandle\u001b[49m\u001b[43m,\u001b[49m\u001b[43m \u001b[49m\u001b[43mioargs\u001b[49m\u001b[38;5;241;43m.\u001b[39;49m\u001b[43mmode\u001b[49m\u001b[43m)\u001b[49m\n\u001b[1;32m    796\u001b[0m     handles\u001b[38;5;241m.\u001b[39mappend(handle)\n\u001b[1;32m    798\u001b[0m \u001b[38;5;66;03m# Convert BytesIO or file objects passed with an encoding\u001b[39;00m\n",
      "\u001b[0;31mFileNotFoundError\u001b[0m: [Errno 2] No such file or directory: 'house_price_sonhali.xlsx'"
     ]
    }
   ],
   "source": [
    "df= pd.read_excel(\"house_price_sonhali.xlsx\")\n",
    "df.head()"
   ]
  },
  {
   "cell_type": "code",
   "execution_count": null,
   "id": "12b9bb60",
   "metadata": {},
   "outputs": [],
   "source": [
    "df[[\"FullBath\"]].head(30)"
   ]
  },
  {
   "cell_type": "code",
   "execution_count": null,
   "id": "8fba4979",
   "metadata": {},
   "outputs": [],
   "source": [
    "df.info()"
   ]
  },
  {
   "cell_type": "code",
   "execution_count": null,
   "id": "a0592e6e",
   "metadata": {},
   "outputs": [],
   "source": [
    "df.columns"
   ]
  },
  {
   "cell_type": "code",
   "execution_count": null,
   "id": "cf0cba11",
   "metadata": {},
   "outputs": [],
   "source": [
    "df.drop(\"Unnamed: 0\",axis=1,inplace=True)"
   ]
  },
  {
   "cell_type": "code",
   "execution_count": null,
   "id": "e3a77caa",
   "metadata": {},
   "outputs": [],
   "source": [
    "df.groupby(['MSZoning','BldgType']).agg({'SalePrice':['count','max','min']})"
   ]
  },
  {
   "cell_type": "code",
   "execution_count": null,
   "id": "b96352bd",
   "metadata": {},
   "outputs": [],
   "source": []
  },
  {
   "cell_type": "code",
   "execution_count": null,
   "id": "2bc60fa6",
   "metadata": {},
   "outputs": [],
   "source": []
  },
  {
   "cell_type": "code",
   "execution_count": null,
   "id": "94624598",
   "metadata": {},
   "outputs": [],
   "source": []
  },
  {
   "cell_type": "code",
   "execution_count": null,
   "id": "93324e72",
   "metadata": {},
   "outputs": [],
   "source": []
  },
  {
   "cell_type": "code",
   "execution_count": null,
   "id": "f3a4d9ad",
   "metadata": {},
   "outputs": [],
   "source": [
    "# df.drop(['1stFlrSF',\"TotalBsmtSF\",\"GarageArea\"], axis=1,inplace=True)"
   ]
  },
  {
   "cell_type": "code",
   "execution_count": null,
   "id": "be4f028e",
   "metadata": {
    "scrolled": true
   },
   "outputs": [],
   "source": [
    "df.drop_duplicates().head()"
   ]
  },
  {
   "cell_type": "code",
   "execution_count": null,
   "id": "2b004eb7",
   "metadata": {},
   "outputs": [],
   "source": []
  },
  {
   "cell_type": "code",
   "execution_count": null,
   "id": "f20f3c82",
   "metadata": {},
   "outputs": [],
   "source": []
  },
  {
   "cell_type": "code",
   "execution_count": null,
   "id": "83a4a8c7",
   "metadata": {},
   "outputs": [],
   "source": [
    "df.shape"
   ]
  },
  {
   "cell_type": "code",
   "execution_count": null,
   "id": "d738c3ae",
   "metadata": {},
   "outputs": [],
   "source": [
    "min_price = df['SalePrice'].min()\n",
    "max_price = df['SalePrice'].max()"
   ]
  },
  {
   "cell_type": "code",
   "execution_count": null,
   "id": "43b56e10",
   "metadata": {},
   "outputs": [],
   "source": [
    "print(f'min Price: $ {min_price}')\n",
    "print(f'max Price: $ {max_price}')"
   ]
  },
  {
   "cell_type": "code",
   "execution_count": null,
   "id": "beffef16",
   "metadata": {
    "scrolled": true
   },
   "outputs": [],
   "source": [
    "df.describe(include=[np.number],percentiles=[0.01,0.99,0.25,0.75,0.5,1]).drop('count').round(2).T"
   ]
  },
  {
   "cell_type": "code",
   "execution_count": null,
   "id": "ab264e1e",
   "metadata": {},
   "outputs": [],
   "source": [
    "df.groupby(['YrSold']).agg({'SalePrice':['count','min','max','std','mean']}).round()"
   ]
  },
  {
   "cell_type": "markdown",
   "id": "a509bf2f",
   "metadata": {},
   "source": [
    "en az 2016 da satis yapilmis ve sonrasinda diger yillara gore % kac arttigini bul?"
   ]
  },
  {
   "cell_type": "code",
   "execution_count": null,
   "id": "aca99481",
   "metadata": {
    "scrolled": true
   },
   "outputs": [],
   "source": [
    "df['SalePrice'].describe(percentiles=[0.01,0.99,0.25,0.75,0.5,1]).T.round()"
   ]
  },
  {
   "cell_type": "code",
   "execution_count": null,
   "id": "85edd539",
   "metadata": {},
   "outputs": [],
   "source": [
    "sns.distplot(df['SalePrice'], color='b',hist=False,vertical=False,rug=True)\n",
    "plt.title(\"Sale Price DistributionPlot\")\n",
    "plt.xlabel('Sale Price')\n",
    "plt.ylabel('Frequency');\n",
    "# tabloda gorulmdugu gibi target kolonumuz sag a carpiktir."
   ]
  },
  {
   "cell_type": "code",
   "execution_count": null,
   "id": "7461fbf0",
   "metadata": {
    "scrolled": false
   },
   "outputs": [],
   "source": [
    "df_new= df[['MSSubClass', 'LotArea', 'OverallQual', 'OverallCond',\n",
    "            'YearBuilt', 'YearRemodAdd', 'BsmtFinSF1', 'BsmtFinSF2',\n",
    "            'BsmtUnfSF', '2ndFlrSF',\n",
    "            'LowQualFinSF', 'GrLivArea', 'BsmtFullBath', 'BsmtHalfBath',\n",
    "            'FullBath', 'HalfBath', 'BedroomAbvGr', 'KitchenAbvGr',\n",
    "            'TotRmsAbvGrd', 'Fireplaces', 'GarageCars',\n",
    "            'WoodDeckSF', 'OpenPorchSF', 'EnclosedPorch', '3SsnPorch',\n",
    "            'ScreenPorch', 'PoolArea', 'MiscVal', 'MoSold',\n",
    "            'YrSold', 'SalePrice']]"
   ]
  },
  {
   "cell_type": "code",
   "execution_count": null,
   "id": "c5a93fa1",
   "metadata": {
    "scrolled": false
   },
   "outputs": [],
   "source": [
    "\n",
    "plt.figure(figsize=(30,10))\n",
    "sns.heatmap(df.corr(), vmax=1, vmin=-1, annot=True, cmap=\"GnBu\")\n",
    "plt.title('Heatmap')\n",
    "plt.show()"
   ]
  },
  {
   "cell_type": "code",
   "execution_count": null,
   "id": "2c4e266e",
   "metadata": {
    "scrolled": true
   },
   "outputs": [],
   "source": [
    "df['SalePrice'].dtypes"
   ]
  },
  {
   "cell_type": "code",
   "execution_count": null,
   "id": "a092b1e2",
   "metadata": {
    "scrolled": false
   },
   "outputs": [],
   "source": [
    "df.corr().T.head()"
   ]
  },
  {
   "cell_type": "code",
   "execution_count": null,
   "id": "37938383",
   "metadata": {},
   "outputs": [],
   "source": [
    "df['SalePrice'].corr()"
   ]
  },
  {
   "cell_type": "code",
   "execution_count": null,
   "id": "15d2f4c7",
   "metadata": {},
   "outputs": [],
   "source": [
    "sns.scatterplot(x=\"MSSubClass\", y=\"OverallCond\", data=df, hue=\"SalePrice\")"
   ]
  },
  {
   "cell_type": "code",
   "execution_count": null,
   "id": "83c0cdcc",
   "metadata": {
    "scrolled": true
   },
   "outputs": [],
   "source": [
    "#Catching Numerical and Categorical Dtypes.\n",
    "obj=[]\n",
    "int64=[]\n",
    "float64=[]\n",
    "for i in df.columns:\n",
    "    if df[i].dtype=='O':\n",
    "        obj.append(i)\n",
    "    elif df[i].dtype==\"float64\":\n",
    "        float64.append(i)\n",
    "    else:\n",
    "        int64.append(i)\n",
    "print(\"<**type object**>:    \",obj)\n",
    "print(\"-*-\"*36)\n",
    "print(\"<**type int**>:    \",int64)\n",
    "print(\"-*-\"*36)\n",
    "print(\"<**type float**>:    \",float64)\n",
    "#burada for loop olusturdum ve i degerine her atanan column type in a gore ayirmasi icin kod yazdim."
   ]
  },
  {
   "cell_type": "code",
   "execution_count": null,
   "id": "c0d50d00",
   "metadata": {
    "scrolled": true
   },
   "outputs": [],
   "source": [
    "# GrLivArea: Above grade (ground) living area square feet\n",
    "sns.distplot(df['GrLivArea'], kde=False, color=\"#172B4D\", hist_kws={\"alpha\": 0.4});\n",
    "plt.ylabel(\"Count\");\n",
    "# right skewed - positive skewed"
   ]
  },
  {
   "cell_type": "code",
   "execution_count": null,
   "id": "d332d7e4",
   "metadata": {
    "scrolled": true
   },
   "outputs": [],
   "source": [
    "plt.scatter(x=df['GrLivArea'], y=df['SalePrice'], color=\"orange\", edgecolors=\"#000000\", linewidths=0.5);\n",
    "plt.xlabel(\"Gr Liv Area\"); plt.ylabel(\"SalePrice\");"
   ]
  },
  {
   "cell_type": "code",
   "execution_count": null,
   "id": "92fd0054",
   "metadata": {
    "scrolled": true
   },
   "outputs": [],
   "source": [
    "unique_values = []\n",
    "for col in obj:\n",
    "    unique_values.append(df[col].unique().size)\n",
    "plt.figure(figsize=(10,6))\n",
    "plt.title('No. Unique values of Categorical Features')\n",
    "plt.xticks(rotation=80)\n",
    "sns.barplot(x=obj,y=unique_values);"
   ]
  },
  {
   "cell_type": "markdown",
   "id": "e863d299",
   "metadata": {},
   "source": [
    "#### Analys of Categorical Feartures"
   ]
  },
  {
   "cell_type": "code",
   "execution_count": null,
   "id": "8a24c2db",
   "metadata": {},
   "outputs": [],
   "source": [
    "plt.figure(figsize=(18, 36))\n",
    "plt.title('Categorical Features: Distribution')\n",
    "plt.xticks(rotation=90)\n",
    "index = 1\n",
    " \n",
    "for col in obj:\n",
    "    y = df[col].value_counts()\n",
    "    plt.subplot(11, 4, index)\n",
    "    plt.xticks(rotation=90)\n",
    "    sns.barplot(x=list(y.index), y=y)\n",
    "    index += 1"
   ]
  },
  {
   "cell_type": "code",
   "execution_count": null,
   "id": "98b37702",
   "metadata": {
    "scrolled": true
   },
   "outputs": [],
   "source": [
    "plt.scatter(x=df['OverallQual'], y=df['SalePrice'], \n",
    "            color=\"orange\", edgecolors=\"#000000\", linewidths=0.5);\n",
    "plt.xlabel(\"Overall Qual\"); plt.ylabel(\"SalePrice\");\n",
    "#OverallQual: Rates the overall material and finish of the house\n",
    "#\n",
    "#       10\tVery Excellent\n",
    "#       9\tExcellent\n",
    "#       8\tVery Good\n",
    "#       7\tGood\n",
    "#       6\tAbove Average\n",
    "#       5\tAverage\n",
    "#       4\tBelow Average\n",
    "#       3\tFair\n",
    "#       2\tPoor\n",
    "#       1\tVery Poor"
   ]
  },
  {
   "cell_type": "code",
   "execution_count": null,
   "id": "959fd133",
   "metadata": {
    "scrolled": true
   },
   "outputs": [],
   "source": [
    "corr_SlePrice=df.corr()['SalePrice'].sort_values(ascending=False)\n",
    "corr_SlePrice"
   ]
  },
  {
   "cell_type": "code",
   "execution_count": null,
   "id": "3156edc7",
   "metadata": {},
   "outputs": [],
   "source": [
    "len(corr_SlePrice)"
   ]
  },
  {
   "cell_type": "code",
   "execution_count": null,
   "id": "4eee6d23",
   "metadata": {
    "scrolled": true
   },
   "outputs": [],
   "source": [
    "model_column = pd.get_dummies(df, columns=[])\n",
    "\n",
    "model_column.tail()"
   ]
  },
  {
   "cell_type": "code",
   "execution_count": null,
   "id": "de74c3a0",
   "metadata": {},
   "outputs": [],
   "source": [
    "modelColumns=['LotArea','OverallQual','MSZoning','GrLivArea',\"BldgType\",'GarageCars','TotalBsmtSF','FullBath','TotRmsAbvGrd','YearBuilt','BedroomAbvGr','SalePrice']"
   ]
  },
  {
   "cell_type": "code",
   "execution_count": null,
   "id": "e2c1ecf8",
   "metadata": {
    "scrolled": true
   },
   "outputs": [],
   "source": [
    "data = pd.DataFrame(data=df,columns=modelColumns)\n",
    "data.shape\n",
    "data"
   ]
  },
  {
   "cell_type": "code",
   "execution_count": null,
   "id": "55cb8cab",
   "metadata": {},
   "outputs": [],
   "source": [
    "data.shape"
   ]
  },
  {
   "cell_type": "code",
   "execution_count": null,
   "id": "146fa8ed",
   "metadata": {
    "scrolled": false
   },
   "outputs": [],
   "source": [
    "\n",
    "plt.figure(figsize=(30,10))\n",
    "sns.heatmap(data.corr(), vmax=1, vmin=-1, annot=True, cmap=\"GnBu\")\n",
    "plt.title('Heatmap')\n",
    "plt.show()"
   ]
  },
  {
   "cell_type": "code",
   "execution_count": null,
   "id": "39caca4c",
   "metadata": {},
   "outputs": [],
   "source": [
    "data = pd.get_dummies(data,drop_first=True)\n",
    "data"
   ]
  },
  {
   "cell_type": "code",
   "execution_count": null,
   "id": "f5eb0935",
   "metadata": {},
   "outputs": [],
   "source": [
    "X = data.drop(['SalePrice'],axis=1)\n",
    "y = data['SalePrice']"
   ]
  },
  {
   "cell_type": "code",
   "execution_count": null,
   "id": "0c90f726",
   "metadata": {},
   "outputs": [],
   "source": [
    "X_train,X_test,y_train,y_test = train_test_split(X,y, test_size=0.20,random_state=100)\n",
    "model = LinearRegression()\n",
    "model.fit(X_train,y_train)\n",
    "y_predict = model.predict(X_test)"
   ]
  },
  {
   "cell_type": "code",
   "execution_count": null,
   "id": "e0ecc07b",
   "metadata": {},
   "outputs": [],
   "source": [
    "train_score = model.score(X_train,y_train)\n",
    "test_score = model.score(X_test,y_test)"
   ]
  },
  {
   "cell_type": "code",
   "execution_count": null,
   "id": "745ea452",
   "metadata": {},
   "outputs": [],
   "source": [
    "print('train results:',train_score)\n",
    "print('test result:',test_score)"
   ]
  },
  {
   "cell_type": "code",
   "execution_count": null,
   "id": "26201137",
   "metadata": {
    "scrolled": false
   },
   "outputs": [],
   "source": [
    "#  ElasticNet\n",
    "from sklearn.linear_model import ElasticNet\n",
    "\n",
    "# Let's find the best hyper parameter for ElasticNet\n",
    "params = {'alpha': [0.0001, 0.001, 0.01, 0.1, 1, 10],'l1_ratio': [0.1, 0.3, 0.5, 0.7, 0.9]}  \n",
    "elasticnet = ElasticNet()\n",
    "grid_elasticnet = GridSearchCV(elasticnet, params, cv=5)\n",
    "grid_elasticnet.fit(X_train, y_train)\n",
    "print(\"Best Params for ElasticNet: \", grid_elasticnet.best_params_)"
   ]
  },
  {
   "cell_type": "code",
   "execution_count": null,
   "id": "ac95ffa0",
   "metadata": {},
   "outputs": [],
   "source": [
    "# # Let's apply ElasticNet\n",
    "model_lR_elasticnet = ElasticNet(alpha=0.1, l1_ratio=0.9)\n",
    "model_lR_elasticnet.fit(X_train,y_train)\n",
    "\n",
    "train_score_elasticnet = model_lR_elasticnet.score(X_train,y_train)\n",
    "test_score_elasticnet = model_lR_elasticnet.score(X_test,y_test)\n",
    "print(\"train score: \",train_score_elasticnet)\n",
    "print(\"test score: \",test_score_elasticnet)"
   ]
  },
  {
   "cell_type": "markdown",
   "id": "23650b31",
   "metadata": {},
   "source": [
    "# Model and Accuracy"
   ]
  },
  {
   "cell_type": "markdown",
   "id": "a99d7836",
   "metadata": {},
   "source": [
    "## All Data"
   ]
  },
  {
   "cell_type": "code",
   "execution_count": null,
   "id": "abe7d2a6",
   "metadata": {
    "scrolled": true
   },
   "outputs": [],
   "source": [
    "X = model_column.drop([\"SalePrice\"],axis=1)\n",
    "y = model_column[\"SalePrice\"]\n",
    "\n",
    "X_train,X_test,y_train,y_test = train_test_split(X,y, train_size=0.9, test_size=0.1,random_state=42)\n",
    "# X_train.isnull().sum().head(30)\n",
    "\n",
    "model_lR = LinearRegression()\n",
    "model_lR.fit(X_train,y_train)\n",
    "\n",
    "train_score = model_lR.score(X_train,y_train)\n",
    "test_score = model_lR.score(X_test,y_test)\n",
    "print(\"train score: \",train_score)\n",
    "print(\"test score: \",test_score)"
   ]
  },
  {
   "cell_type": "code",
   "execution_count": null,
   "id": "604c2d16",
   "metadata": {},
   "outputs": [],
   "source": [
    "\n",
    "# # Let's apply GridSearchCV for Lasso\n",
    "# from sklearn.model_selection import GridSearchCV\n",
    "# \n",
    "# # Let's find the best parameter for Lasso\n",
    "# params = {'alpha': [0.0001, 0.001, 0.01, 0.1, 1, 10]}\n",
    "# lasso = Lasso()\n",
    "# grid_lasso = GridSearchCV(lasso, params, cv=5)\n",
    "# grid_lasso.fit(XL_train, yL_train)\n",
    "# print(\"Best Params for Lasso: \", grid_lasso.best_params_)\n",
    "# print(\"Best Score for Lasso: \", grid_lasso.best_score_)\n",
    "# print(\"Best Estimator for Lasso: \", grid_lasso.best_estimator_)"
   ]
  },
  {
   "cell_type": "code",
   "execution_count": null,
   "id": "fd1bb253",
   "metadata": {},
   "outputs": [],
   "source": [
    "# # Let's import Lasso and Ridge Regression from sklearn\n",
    "# from sklearn.linear_model import Lasso, Ridge\n",
    "# \n",
    "# \n",
    "# # Let's apply L1 regularization\n",
    "# model_lR_L1 = Lasso(alpha=10)\n",
    "# model_lR_L1.fit(XL_train,yL_train)\n",
    "# \n",
    "# train_score_L1 = model_lR_L1.score(XL_train,yL_train)\n",
    "# test_score_L1 = model_lR_L1.score(XL_test,yL_test)\n",
    "# print(\"train score: \",train_score_L1)\n",
    "# print(\"test score: \",test_score_L1)"
   ]
  },
  {
   "cell_type": "code",
   "execution_count": null,
   "id": "b1218127",
   "metadata": {},
   "outputs": [],
   "source": [
    "# # Let's find the best hyper parameter for Ridge\n",
    "# params = {'alpha': [0.0001, 0.001, 0.01, 0.1, 1, 10]}\n",
    "# ridge = Ridge()\n",
    "# grid_ridge = GridSearchCV(ridge, params, cv=5)\n",
    "# grid_ridge.fit(XL_train, yL_train)\n",
    "# print(\"Best Params for Ridge: \", grid_ridge.best_params_)"
   ]
  },
  {
   "cell_type": "code",
   "execution_count": null,
   "id": "3b8fe0b8",
   "metadata": {},
   "outputs": [],
   "source": [
    "# # Let's apply L2 regularization\n",
    "# model_lR_L2 = Ridge(alpha=10)\n",
    "# model_lR_L2.fit(XL_train,yL_train)\n",
    "# \n",
    "# train_score_L2 = model_lR_L2.score(XL_train,yL_train)\n",
    "# test_score_L2 = model_lR_L2.score(XL_test,yL_test)\n",
    "# print(\"train score: \",train_score_L2)\n",
    "# print(\"test score: \",test_score_L2)"
   ]
  },
  {
   "cell_type": "code",
   "execution_count": null,
   "id": "a7c25557",
   "metadata": {},
   "outputs": [],
   "source": [
    "# # ElasticNet\n",
    "# from sklearn.linear_model import ElasticNet\n",
    "# \n",
    "# # Let's find the best hyper parameter for ElasticNet\n",
    "# params = {'alpha': [0.0001, 0.001, 0.01, 0.1, 1, 10],'l1_ratio': [0.1, 0.3, 0.5, 0.7, 0.9]}  \n",
    "# elasticnet = ElasticNet()\n",
    "# grid_elasticnet = GridSearchCV(elasticnet, params, cv=5)\n",
    "# grid_elasticnet.fit(XL_train, yL_train)\n",
    "# print(\"Best Params for ElasticNet: \", grid_elasticnet.best_params_)"
   ]
  },
  {
   "cell_type": "code",
   "execution_count": null,
   "id": "21cb8589",
   "metadata": {},
   "outputs": [],
   "source": [
    "# # Let's apply ElasticNet\n",
    "# model_lR_elasticnet = ElasticNet(alpha=0.1, l1_ratio=0.9)\n",
    "# model_lR_elasticnet.fit(XL_train,yL_train)\n",
    "# \n",
    "# train_score_elasticnet = model_lR_elasticnet.score(XL_train,yL_train)\n",
    "# test_score_elasticnet = model_lR_elasticnet.score(XL_test,yL_test)\n",
    "# print(\"train score: \",train_score_elasticnet)\n",
    "# print(\"test score: \",test_score_elasticnet)"
   ]
  },
  {
   "cell_type": "markdown",
   "id": "62ebc2c4",
   "metadata": {},
   "source": [
    "### Random Forest"
   ]
  },
  {
   "cell_type": "code",
   "execution_count": null,
   "id": "051aa327",
   "metadata": {},
   "outputs": [],
   "source": [
    "# model_rF = RandomForestRegressor(n_estimators=10, random_state=22)\n",
    "# model_rF.fit(X_train, y_train)\n",
    "# y_PreD = model_rF.predict(X_test)\n",
    "# \n",
    "# print(\"r2_score:\",r2_score(y_test,y_PreD))\n",
    "# print(\"MSPE\",mean_absolute_percentage_error(y_test,y_PreD))"
   ]
  },
  {
   "cell_type": "markdown",
   "id": "d58daa4c",
   "metadata": {},
   "source": [
    "## Categorical Features"
   ]
  },
  {
   "cell_type": "markdown",
   "id": "3e08b1a2",
   "metadata": {},
   "source": [
    "  ### Linear Regrasion"
   ]
  },
  {
   "cell_type": "code",
   "execution_count": null,
   "id": "a90cb849",
   "metadata": {},
   "outputs": [],
   "source": [
    "# X = df_new.drop(['SalePrice'], axis=1)\n",
    "# y = df_new['SalePrice']\n",
    "#  \n",
    "# # Split the training set into\n",
    "# # training and test set\n",
    "# X_train, X_test, y_train, y_test = train_test_split(X, y, train_size=0.8, test_size=0.2, random_state=100)\n",
    "# model_lr=LinearRegression()\n",
    "# model_lr.fit(X_train,y_train)\n",
    "# y_Pred = model_lr.predict(X_test)\n",
    "# print(\"r2_score:\",r2_score(y_test,y_Pred))\n",
    "# print(\"MSPE\",mean_absolute_percentage_error(y_test,y_Pred))\n"
   ]
  },
  {
   "cell_type": "markdown",
   "id": "ff530a17",
   "metadata": {},
   "source": [
    "### Random Forest"
   ]
  },
  {
   "cell_type": "code",
   "execution_count": null,
   "id": "98bcd9f9",
   "metadata": {},
   "outputs": [],
   "source": [
    "# model_rf = RandomForestRegressor(n_estimators=10)\n",
    "# model_rf.fit(X_train, y_train)\n",
    "# y_pred = model_rf.predict(X_test)\n",
    "\n",
    "\n",
    "\n",
    "# print(\"r2_score:\",r2_score(y_test,y_pred))\n",
    "# print(\"MSPE\",mean_absolute_percentage_error(y_test,y_pred))\n"
   ]
  },
  {
   "cell_type": "code",
   "execution_count": null,
   "id": "9c610316",
   "metadata": {},
   "outputs": [],
   "source": []
  },
  {
   "cell_type": "code",
   "execution_count": null,
   "id": "0221e594",
   "metadata": {},
   "outputs": [],
   "source": []
  },
  {
   "cell_type": "code",
   "execution_count": null,
   "id": "768b4676",
   "metadata": {},
   "outputs": [],
   "source": []
  },
  {
   "cell_type": "code",
   "execution_count": null,
   "id": "da55f46d",
   "metadata": {},
   "outputs": [],
   "source": []
  },
  {
   "cell_type": "code",
   "execution_count": null,
   "id": "f90af949",
   "metadata": {},
   "outputs": [],
   "source": []
  }
 ],
 "metadata": {
  "kernelspec": {
   "display_name": "Python 3 (ipykernel)",
   "language": "python",
   "name": "python3"
  },
  "language_info": {
   "codemirror_mode": {
    "name": "ipython",
    "version": 3
   },
   "file_extension": ".py",
   "mimetype": "text/x-python",
   "name": "python",
   "nbconvert_exporter": "python",
   "pygments_lexer": "ipython3",
   "version": "3.9.13"
  }
 },
 "nbformat": 4,
 "nbformat_minor": 5
}
